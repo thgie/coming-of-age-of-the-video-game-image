{
 "cells": [
  {
   "cell_type": "markdown",
   "id": "a4a2c133-6997-4b82-ba51-6baba2f62d2f",
   "metadata": {},
   "source": [
    "# Visualize\n",
    "\n",
    "Some helpful links:\n",
    "\n",
    "- https://docs.voxel51.com/tutorials/clustering.html\n",
    "- https://docs.voxel51.com/tutorials/dimension_reduction.html"
   ]
  },
  {
   "cell_type": "markdown",
   "id": "7d0d8774-d3e2-4a41-adbe-5c961e65f334",
   "metadata": {},
   "source": [
    "## Jobs"
   ]
  },
  {
   "cell_type": "code",
   "execution_count": null,
   "id": "9dbf2fcc-e492-4a51-80c8-cbe313107ece",
   "metadata": {},
   "outputs": [],
   "source": [
    "# since this can take a long time, we don't want to accidently trigger this\n",
    "calculate_embeddings   = False\n",
    "\n",
    "# we don't want to do this over and over again\n",
    "compute_visualisations = False"
   ]
  },
  {
   "cell_type": "markdown",
   "id": "c5283f61-37c4-4ae4-8a53-3653507c9ef4",
   "metadata": {},
   "source": [
    "## Prepare Dataset\n",
    "- Initialize Dataset first through [40 Init](40_Init.ipynb)"
   ]
  },
  {
   "cell_type": "code",
   "execution_count": null,
   "id": "40d5242a-c4d1-4d18-beae-15417a50ba0e",
   "metadata": {},
   "outputs": [],
   "source": [
    "import fiftyone as fo\n",
    "import fiftyone.brain as fob\n",
    "import fiftyone.zoo as foz\n",
    "\n",
    "# dataset basics\n",
    "dataset_label = 'video-game-screenshots'\n",
    "\n",
    "if dataset_label in fo.list_datasets():\n",
    "    dataset_exists = True\n",
    "    dataset = fo.load_dataset(dataset_label)\n",
    "    session = fo.launch_app(dataset, auto=False)"
   ]
  },
  {
   "cell_type": "markdown",
   "id": "3f0fae29-6bd2-45bd-ab4d-005826077abe",
   "metadata": {},
   "source": [
    "[Open Dataset in FiftyOne](http://localhost:5151/)"
   ]
  },
  {
   "cell_type": "markdown",
   "id": "0c5b3b38-09ff-4197-8e29-6951fdf96824",
   "metadata": {},
   "source": [
    "### Calculate Embeddings"
   ]
  },
  {
   "cell_type": "code",
   "execution_count": null,
   "id": "1a08815d-ccee-4ea0-b379-fd92711c3f05",
   "metadata": {},
   "outputs": [],
   "source": [
    "if calculate_embeddings:\n",
    "    resnet101 = foz.load_zoo_model(\"resnet101-imagenet-torch\")\n",
    "    \n",
    "    dataset.compute_embeddings(\n",
    "        resnet101,\n",
    "        embeddings_field=\"resnet101_embeddings\"\n",
    "    )"
   ]
  },
  {
   "cell_type": "code",
   "execution_count": null,
   "id": "f6e4ee94-5428-4399-a633-9975a6fadffb",
   "metadata": {},
   "outputs": [],
   "source": [
    "if calculate_embeddings:\n",
    "    dinov2 = foz.load_zoo_model(\"dinov2-vitb14-torch\")\n",
    "    \n",
    "    dataset.compute_embeddings(\n",
    "        dinov2,\n",
    "        embeddings_field=\"dinov2_embeddings\"\n",
    "    )"
   ]
  },
  {
   "cell_type": "markdown",
   "id": "98952caa-a516-480d-b80e-4da4d07f1430",
   "metadata": {},
   "source": [
    "### Compute Visualisations"
   ]
  },
  {
   "cell_type": "markdown",
   "id": "9d9570c8-97f1-4a22-8049-95fed482d0c0",
   "metadata": {},
   "source": [
    "#### UMAP\n",
    "- lower minimal distance and less neighbours to break up global structures\n",
    "- higher min_dist and n_neighbors to tighten structure\n",
    "- [fiftyone.brain.visualization.UMAPVisualizationConfig](https://docs.voxel51.com/api/fiftyone.brain.visualization.html#fiftyone.brain.visualization.UMAPVisualizationConfig)"
   ]
  },
  {
   "cell_type": "markdown",
   "id": "cc1669c0-96a8-4cb0-b9d0-298817f2b148",
   "metadata": {},
   "source": [
    "#### Resnet101"
   ]
  },
  {
   "cell_type": "code",
   "execution_count": null,
   "id": "1a4da8e2-de77-403e-ba9c-6fffc175498f",
   "metadata": {},
   "outputs": [],
   "source": [
    "if False:\n",
    "\n",
    "    min_dist_s = [0.001, 0.01, 0.5]\n",
    "    num_neighbors_s = [100, 500, 750]\n",
    "    \n",
    "    for min_dist in min_dist_s:\n",
    "        for num_neighbors in num_neighbors_s:\n",
    "            res = fob.compute_visualization(\n",
    "                dataset,\n",
    "                embeddings=\"resnet101_embeddings\",\n",
    "                method=\"umap\",\n",
    "                brain_key=\"resnet101_umap_\"+str(min_dist).replace(\".\", \"_\")+\"_\"+str(num_neighbors)+\"_vis\",\n",
    "                min_dist=min_dist,\n",
    "                num_neighbors=num_neighbors\n",
    "            )\n",
    "            \n",
    "            dataset.set_values(\"resnet101_umap_\"+str(min_dist).replace(\".\", \"_\")+\"_\"+str(num_neighbors), res.current_points)"
   ]
  },
  {
   "cell_type": "markdown",
   "id": "eceefdbc-bf1e-480b-b82a-c42ef6c55c19",
   "metadata": {},
   "source": [
    "#### Dino v2"
   ]
  },
  {
   "cell_type": "code",
   "execution_count": null,
   "id": "f3e9c1b1-b6d7-4be0-954d-081d09640232",
   "metadata": {},
   "outputs": [],
   "source": [
    "if compute_visualisations:\n",
    "    \n",
    "    min_dist_s = [0.001, 0.01, 0.5]\n",
    "    num_neighbors_s = [100, 500, 750]\n",
    "    \n",
    "    for min_dist in min_dist_s:\n",
    "        for num_neighbors in num_neighbors_s:\n",
    "            res = fob.compute_visualization(\n",
    "                dataset,\n",
    "                embeddings=\"dinov2_embeddings\",\n",
    "                method=\"umap\",\n",
    "                brain_key=\"dinov2_umap_\"+str(min_dist).replace(\".\", \"\")+\"_\"+str(num_neighbors)+\"_vis\",\n",
    "                min_dist=min_dist,\n",
    "                num_neighbors=num_neighbors\n",
    "            )\n",
    "            \n",
    "            dataset.set_values(\"dinov2_umap_\"+str(min_dist).replace(\".\", \"\")+\"_\"+str(num_neighbors), res.current_points)"
   ]
  }
 ],
 "metadata": {
  "kernelspec": {
   "display_name": "Python 3 (ipykernel)",
   "language": "python",
   "name": "python3"
  },
  "language_info": {
   "codemirror_mode": {
    "name": "ipython",
    "version": 3
   },
   "file_extension": ".py",
   "mimetype": "text/x-python",
   "name": "python",
   "nbconvert_exporter": "python",
   "pygments_lexer": "ipython3",
   "version": "3.9.19"
  },
  "widgets": {
   "application/vnd.jupyter.widget-state+json": {
    "state": {},
    "version_major": 2,
    "version_minor": 0
   }
  }
 },
 "nbformat": 4,
 "nbformat_minor": 5
}
