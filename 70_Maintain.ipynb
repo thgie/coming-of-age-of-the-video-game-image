{
 "cells": [
  {
   "cell_type": "markdown",
   "id": "a4a2c133-6997-4b82-ba51-6baba2f62d2f",
   "metadata": {},
   "source": [
    "# Maintain"
   ]
  },
  {
   "cell_type": "markdown",
   "id": "91ef4be6-529f-4251-b089-1c21a0ab36cd",
   "metadata": {},
   "source": [
    "## Jobs"
   ]
  },
  {
   "cell_type": "code",
   "execution_count": null,
   "id": "62a0e24d-61d7-4c15-8f31-73c2392f259b",
   "metadata": {},
   "outputs": [],
   "source": [
    "convert_year_type  = False\n",
    "fix_countries      = False\n",
    "rename_hotspots    = False\n",
    "create_sample_set  = False\n",
    "remove_resnet      = False\n",
    "export_dataset     = True\n",
    "\n",
    "# D A N G E R\n",
    "cleanup_runs = False\n",
    "cleanup_everything = False"
   ]
  },
  {
   "cell_type": "markdown",
   "id": "3b0b4896-4966-4de6-b021-6940806078c3",
   "metadata": {},
   "source": [
    "## Basic Setup"
   ]
  },
  {
   "cell_type": "code",
   "execution_count": null,
   "id": "40d5242a-c4d1-4d18-beae-15417a50ba0e",
   "metadata": {},
   "outputs": [],
   "source": [
    "import ipywidgets as widgets\n",
    "import os, random, shutil\n",
    "\n",
    "# dataset basics\n",
    "dataset_label = 'video-game-screenshots'\n",
    "\n",
    "# folder setup\n",
    "path_screenshots = os.path.abspath(os.getcwd()) + '/screenshots/'\n",
    "path_export = os.path.abspath(os.getcwd()) + '/dataset/'\n",
    "path_samples = os.path.abspath(os.getcwd()) + '/sample_set/'"
   ]
  },
  {
   "cell_type": "markdown",
   "id": "c5283f61-37c4-4ae4-8a53-3653507c9ef4",
   "metadata": {},
   "source": [
    "## Prepare Dataset"
   ]
  },
  {
   "cell_type": "code",
   "execution_count": null,
   "id": "ca06ab61-a780-41d0-a99b-51970882ccf3",
   "metadata": {},
   "outputs": [],
   "source": [
    "import fiftyone as fo\n",
    "\n",
    "if dataset_label in fo.list_datasets():\n",
    "    dataset = fo.load_dataset(dataset_label)\n",
    "    session = fo.launch_app(dataset, auto=False)"
   ]
  },
  {
   "cell_type": "markdown",
   "id": "d14bf6d8-badf-4c7f-ae48-3f3e157078b4",
   "metadata": {},
   "source": [
    "Open [FiftyOne 🔗](http://localhost:5151)."
   ]
  },
  {
   "cell_type": "markdown",
   "id": "00a1e5d2-df90-4725-b268-a3c082e4886a",
   "metadata": {},
   "source": [
    "## Rename Hotspot Labels"
   ]
  },
  {
   "cell_type": "code",
   "execution_count": null,
   "id": "f26db0f1-b59f-4eb0-8e9f-9769451aac30",
   "metadata": {},
   "outputs": [],
   "source": [
    "if rename_hotspots:\n",
    "    sample_field = \"kmeans_dinov2_embeddings_cluster\"\n",
    "    value_map = {\n",
    "        \"5\": \"Isometric Perspectives\"\n",
    "    }\n",
    "    \n",
    "    for sample in dataset.iter_samples(progress=True, autosave=True):\n",
    "        if sample[sample_field] in value_map:\n",
    "            sample[sample_field] = value_map[sample[sample_field]]\n",
    "            sample.save()"
   ]
  },
  {
   "cell_type": "markdown",
   "id": "26f123a7-ef0a-4e42-8e10-65d18342cff6",
   "metadata": {},
   "source": [
    "## Convert Years from String to Int"
   ]
  },
  {
   "cell_type": "code",
   "execution_count": null,
   "id": "f12d7c99-fa54-4b9f-84b9-5dcac209ccc2",
   "metadata": {},
   "outputs": [],
   "source": [
    "if convert_year_type:\n",
    "    for sample in dataset.iter_samples(progress=True, autosave=True):\n",
    "        sample[\"year\"] = int(sample[\"years\"][0])"
   ]
  },
  {
   "cell_type": "markdown",
   "id": "2df62d62-0d1f-4064-8444-a00b7b4761a8",
   "metadata": {},
   "source": [
    "## Remove Resnet101 Embeddings from Samples"
   ]
  },
  {
   "cell_type": "code",
   "execution_count": null,
   "id": "53db5974-7ecd-4f70-9f45-89fd197505cd",
   "metadata": {},
   "outputs": [],
   "source": [
    "if remove_resnet:\n",
    "    fields = [\"resnet101_embeddings\"]\n",
    "    for field in fields:\n",
    "        print(\"Deleting\", field)\n",
    "        dataset.delete_sample_field(field)"
   ]
  },
  {
   "cell_type": "markdown",
   "id": "7a21ca72-e2e0-42b4-ac95-135fd48d1597",
   "metadata": {},
   "source": [
    "## Fix Country attribute"
   ]
  },
  {
   "cell_type": "code",
   "execution_count": null,
   "id": "584360fa-496f-47a7-bc74-7ab322d3cdfb",
   "metadata": {},
   "outputs": [],
   "source": [
    "if fix_countries:\n",
    "    dataset.rename_sample_field(\"countries\", \"countries_deprecated\")\n",
    "    for sample in dataset.iter_samples(progress=True, autosave=True):\n",
    "        sample[\"countries\"] = sample[\"countries_deprecated\"].split(\"|\")\n",
    "        if sample[\"countries\"][0] in [\n",
    "            \"http://www.wikidata.org/.well-known/genid/05a392b0889f3fc9120b0d65eec2de1c\",\n",
    "            \"http://www.wikidata.org/.well-known/genid/a7cc242f7b23d82513a4faf4e66ca359\"]:\n",
    "            sample[\"countries\"] = []\n",
    "    dataset.delete_sample_field(\"countries_deprecated\")"
   ]
  },
  {
   "cell_type": "markdown",
   "id": "b77e4e6e-9131-484a-8463-528c347ab774",
   "metadata": {},
   "source": [
    "## Create Random Sample"
   ]
  },
  {
   "cell_type": "code",
   "execution_count": null,
   "id": "b4887271-0b58-430f-8faa-c196f7892e3a",
   "metadata": {},
   "outputs": [],
   "source": [
    "if create_sample_set:\n",
    "\n",
    "    sample_size = 1130\n",
    "    \n",
    "    if os.path.exists(path_samples):\n",
    "        shutil.rmtree(path_samples)\n",
    "    \n",
    "    os.makedirs(path_samples)\n",
    "    \n",
    "    def get_files():\n",
    "        filename = random.choice(os.listdir(path_screenshots))\n",
    "        return {\n",
    "            'filepath': path_screenshots+filename,\n",
    "            'copypath': path_samples+filename \n",
    "        }\n",
    "    \n",
    "    for i in range(sample_size):\n",
    "        files = get_files()\n",
    "        while os.path.isfile(files['copypath']):\n",
    "            files = get_files()\n",
    "        shutil.copy(files['filepath'], files['copypath'])"
   ]
  },
  {
   "cell_type": "markdown",
   "id": "f19d3990-c21c-416c-9f6d-b9c32a0deb82",
   "metadata": {},
   "source": [
    "## Export Dataset"
   ]
  },
  {
   "cell_type": "code",
   "execution_count": null,
   "id": "c38d4b46-7481-4c1b-9212-1ca48929eaea",
   "metadata": {},
   "outputs": [],
   "source": [
    "if export_dataset:\n",
    "    dataset.export(\n",
    "        export_dir=path_export,\n",
    "        dataset_type=fo.types.FiftyOneDataset,\n",
    "        use_dirs=True,\n",
    "    )"
   ]
  },
  {
   "cell_type": "markdown",
   "id": "e79f7d76-6f4e-4881-a1f9-fdee4e30e4de",
   "metadata": {},
   "source": [
    "## Cleanup"
   ]
  },
  {
   "cell_type": "code",
   "execution_count": null,
   "id": "052b285c-2e5f-460c-9ad7-d1dc8b8ddb83",
   "metadata": {},
   "outputs": [],
   "source": [
    "if cleanup_runs:\n",
    "    dataset.delete_runs()\n",
    "    dataset.delete_brain_runs()"
   ]
  },
  {
   "cell_type": "code",
   "execution_count": null,
   "id": "444dce8c-8f5a-4dbd-a79d-7ca84d15b05e",
   "metadata": {},
   "outputs": [],
   "source": [
    "if cleanup_everything:\n",
    "    dataset.delete_runs()\n",
    "    dataset.delete_brain_runs()\n",
    "    dataset.delete_evaluations()\n",
    "    fo.delete_dataset(dataset_label)"
   ]
  }
 ],
 "metadata": {
  "kernelspec": {
   "display_name": "Python 3 (ipykernel)",
   "language": "python",
   "name": "python3"
  },
  "language_info": {
   "codemirror_mode": {
    "name": "ipython",
    "version": 3
   },
   "file_extension": ".py",
   "mimetype": "text/x-python",
   "name": "python",
   "nbconvert_exporter": "python",
   "pygments_lexer": "ipython3",
   "version": "3.9.19"
  },
  "widgets": {
   "application/vnd.jupyter.widget-state+json": {
    "state": {},
    "version_major": 2,
    "version_minor": 0
   }
  }
 },
 "nbformat": 4,
 "nbformat_minor": 5
}
