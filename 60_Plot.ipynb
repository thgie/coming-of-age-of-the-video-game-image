{
 "cells": [
  {
   "cell_type": "markdown",
   "id": "a4a2c133-6997-4b82-ba51-6baba2f62d2f",
   "metadata": {},
   "source": [
    "# Visualize"
   ]
  },
  {
   "cell_type": "code",
   "execution_count": 1,
   "id": "40d5242a-c4d1-4d18-beae-15417a50ba0e",
   "metadata": {},
   "outputs": [],
   "source": [
    "import fiftyone as fo\n",
    "from fiftyone import ViewField as F\n",
    "\n",
    "# dataset basics\n",
    "dataset_label = 'video-game-screenshots'"
   ]
  },
  {
   "cell_type": "markdown",
   "id": "c5283f61-37c4-4ae4-8a53-3653507c9ef4",
   "metadata": {},
   "source": [
    "## Prepare Dataset"
   ]
  },
  {
   "cell_type": "code",
   "execution_count": 2,
   "id": "ca06ab61-a780-41d0-a99b-51970882ccf3",
   "metadata": {},
   "outputs": [
    {
     "name": "stdout",
     "output_type": "stream",
     "text": [
      "Session launched. Run `session.show()` to open the App in a cell output.\n"
     ]
    }
   ],
   "source": [
    "if dataset_label in fo.list_datasets():\n",
    "    dataset = fo.load_dataset(dataset_label)\n",
    "    session = fo.launch_app(dataset, auto=False)"
   ]
  },
  {
   "cell_type": "markdown",
   "id": "d14bf6d8-badf-4c7f-ae48-3f3e157078b4",
   "metadata": {},
   "source": [
    "Open [FiftyOne 🔗](http://localhost:5151)."
   ]
  },
  {
   "cell_type": "markdown",
   "id": "3afcc145-49f5-4ae4-b18a-f0c64561d842",
   "metadata": {},
   "source": [
    "## Histogram"
   ]
  },
  {
   "cell_type": "code",
   "execution_count": 3,
   "id": "56d7d6e7-cc0f-490d-8128-e607b1ba13de",
   "metadata": {},
   "outputs": [
    {
     "data": {
      "text/plain": []
     },
     "metadata": {},
     "output_type": "display_data"
    },
    {
     "data": {
      "text/plain": []
     },
     "metadata": {},
     "output_type": "display_data"
    },
    {
     "data": {
      "application/vnd.jupyter.widget-view+json": {
       "model_id": "b28d6a75560b4712bf9bc92d7f447ce4",
       "version_major": 2,
       "version_minor": 0
      },
      "text/plain": [
       "FigureWidget({\n",
       "    'data': [{'hovertemplate': '<b>years: %{x}</b><br>count: %{y}<extra></extra>',\n",
       "              'marker': {'color': '#FF6D04'},\n",
       "              'type': 'bar',\n",
       "              'uid': '32f522e0-e0e9-4523-96f4-9bf33e0b7219',\n",
       "              'x': [1988, 1989, 1986, 1990, 1985, 1984, 1983, 1987, 1982, 1981,\n",
       "                    1980, 1979, 1978, 1977, 1971, 1976, 1975, 1973, 1966, 1969,\n",
       "                    1968, 1972, 1962, 1974],\n",
       "              'xaxis': 'x',\n",
       "              'y': [18263, 16688, 15514, 13616, 12720, 10922, 10085, 10017, 6392,\n",
       "                    3194, 1945, 733, 464, 191, 129, 102, 55, 50, 34, 24, 8, 3, 3,\n",
       "                    2],\n",
       "              'yaxis': 'y'},\n",
       "             {'hovertemplate': '<b>platform: %{x}</b><br>count: %{y}<extra></extra>',\n",
       "              'marker': {'color': '#FF6D04'},\n",
       "              'type': 'bar',\n",
       "              'uid': '5b759085-c952-49c2-aebf-3f66e3380768',\n",
       "              'x': [Commodore 64, DOS, ZX Spectrum, Amiga, Atari ST, NES, Arcade,\n",
       "                    Amstrad CPC, Apple II, Atari 8-bit, MSX, PC Booter, SEGA Master\n",
       "                    System, Genesis, Atari 2600, PC-98, PC-88, BBC Micro,\n",
       "                    Macintosh, TurboGrafx-16, Game Boy, Apple IIgs, Windows, Sharp\n",
       "                    X68000, SNES, TurboGrafx CD, VIC-20, FM Towns, TRS-80,\n",
       "                    ColecoVision, Sharp X1, Commodore 16, Plus/4, TRS-80 CoCo,\n",
       "                    Intellivision, Atari 5200, Dragon 32/64, Game Gear, Lynx, Atari\n",
       "                    7800, FM-7, Game Boy Advance, Electron, Commodore PET/CBM, Game\n",
       "                    Boy Color, TI-99/4A, SEGA CD, Browser, SG-1000, Amstrad PCW,\n",
       "                    J2ME, Thomson TO, Android, Xbox 360, Odyssey 2, Neo Geo,\n",
       "                    iPhone, Acorn 32-bit, PC-6001, PlayStation, Sord M5, Commodore\n",
       "                    128, Coleco Adam, ZX81, ZX Spectrum Next, Casio PV-1000,\n",
       "                    WonderSwan Color, Oric, Tatung Einstein, Vectrex, Thomson MO,\n",
       "                    SEGA Saturn, PC-8000, Tomy Tutor, WonderSwan, Palm OS, Quest,\n",
       "                    iPad, SuperGrafx, Arcadia 2001, CD-i, Philips VG 5000, Amiga\n",
       "                    CD32, Zeebo, Mattel Aquarius, Wii U, 3DO, Terminal, Videopac+\n",
       "                    G7400, Epoch Super Cassette Vision, SAM Coupé, Nintendo Switch,\n",
       "                    Linux, Wii, Adventure Vision, Sharp MZ-80K/700/800/1500, SEGA\n",
       "                    32X, CDTV, Mainframe, Bally Astrocade, Exelvision, Jaguar,\n",
       "                    Channel F, SMC-777, PlayStation 4, Exidy Sorcerer, Supervision,\n",
       "                    Nintendo DS, Bubble, Epoch Game Pocket Computer, Enterprise,\n",
       "                    Windows Mobile, Neo Geo CD, Memotech MTX, Sharp\n",
       "                    MZ-80B/2000/2500, ExEn, RCA Studio II, Sinclair QL, Hugo, DVD\n",
       "                    Player, Neo Geo Pocket Color, Timex Sinclair 2068, Dedicated\n",
       "                    handheld, Microbee, Apple I, Odyssey, TIM, Pebble, PlayStation\n",
       "                    Now, Atom, Newton],\n",
       "              'xaxis': 'x2',\n",
       "              'y': [14343, 12751, 10771, 8409, 7592, 7565, 6634, 5881, 5077, 3914,\n",
       "                    3357, 1842, 1697, 1652, 1442, 1395, 1352, 1338, 1177, 891, 748,\n",
       "                    725, 710, 706, 687, 662, 614, 583, 577, 548, 515, 480, 454,\n",
       "                    378, 364, 354, 308, 266, 259, 243, 229, 223, 222, 214, 211,\n",
       "                    201, 198, 177, 175, 150, 145, 144, 127, 109, 107, 99, 96, 94,\n",
       "                    90, 90, 82, 68, 67, 64, 59, 58, 54, 51, 51, 49, 49, 46, 43, 43,\n",
       "                    41, 38, 36, 33, 33, 31, 28, 27, 27, 23, 22, 21, 21, 18, 18, 17,\n",
       "                    17, 16, 16, 15, 14, 14, 13, 13, 13, 12, 12, 12, 11, 11, 10, 10,\n",
       "                    10, 9, 9, 8, 7, 7, 7, 6, 5, 5, 5, 5, 5, 4, 3, 3, 3, 2, 2, 1, 1,\n",
       "                    1, 1, 1],\n",
       "              'yaxis': 'y2'},\n",
       "             {'hovertemplate': '<b>countries: %{x}</b><br>count: %{y}<extra></extra>',\n",
       "              'marker': {'color': '#FF6D04'},\n",
       "              'type': 'bar',\n",
       "              'uid': '5f211805-86a7-497d-8769-9430a618bd5d',\n",
       "              'x': [United States of America, Japan, United Kingdom, , France,\n",
       "                    England, Germany, Spain, Australia, Canada, Japan|United States\n",
       "                    of America, Japan|United Kingdom, Denmark, Hungary, Finland,\n",
       "                    United States of America|United Kingdom, Canada|England,\n",
       "                    Japan|People's Republic of China, Netherlands, Poland, United\n",
       "                    Kingdom|Australia, Wales, Japan|France, England|United States\n",
       "                    of America, France|United Kingdom, United States of\n",
       "                    America|Russia, Switzerland, http://www.wikidata.org/.well-\n",
       "                    known/genid/05a392b0889f3fc9120b0d65eec2de1c, Sweden,\n",
       "                    England|Spain, Italy, Netherlands|United Kingdom, United\n",
       "                    Kingdom|Israel, Denmark|United Kingdom, Taiwan,\n",
       "                    Switzerland|Germany, http://www.wikidata.org/.well-\n",
       "                    known/genid/a7cc242f7b23d82513a4faf4e66ca359, England|Sweden,\n",
       "                    Russia, Belgium, South Korea, Czech Republic, United States of\n",
       "                    America|Australia, Israel, Italy|United Kingdom, Estonia,\n",
       "                    Ukraine, England|Northern Ireland],\n",
       "              'xaxis': 'x3',\n",
       "              'y': [39139, 27980, 19885, 13049, 3868, 2868, 1792, 1302, 753, 645,\n",
       "                    214, 213, 198, 156, 152, 149, 144, 107, 102, 100, 98, 96, 83,\n",
       "                    79, 70, 68, 67, 65, 63, 61, 60, 34, 30, 25, 24, 19, 19, 17, 15,\n",
       "                    14, 13, 12, 12, 9, 9, 9, 7, 5],\n",
       "              'yaxis': 'y3'}],\n",
       "    'layout': {'height': 1000,\n",
       "               'margin': {'b': 0, 'l': 0, 'r': 0, 't': 30},\n",
       "               'showlegend': False,\n",
       "               'template': '...',\n",
       "               'xaxis': {'anchor': 'y', 'domain': [0.0, 0.45], 'title': {'text': 'years'}},\n",
       "               'xaxis2': {'anchor': 'y2', 'domain': [0.55, 1.0], 'title': {'text': 'platform'}},\n",
       "               'xaxis3': {'anchor': 'y3', 'domain': [0.0, 0.45], 'title': {'text': 'countries'}},\n",
       "               'xaxis4': {'anchor': 'y4', 'domain': [0.55, 1.0]},\n",
       "               'yaxis': {'anchor': 'x', 'domain': [0.575, 1.0], 'title': {'text': 'count'}},\n",
       "               'yaxis2': {'anchor': 'x2', 'domain': [0.575, 1.0], 'title': {'text': 'count'}},\n",
       "               'yaxis3': {'anchor': 'x3', 'domain': [0.0, 0.425], 'title': {'text': 'count'}},\n",
       "               'yaxis4': {'anchor': 'x4', 'domain': [0.0, 0.425]}}\n",
       "})"
      ]
     },
     "metadata": {},
     "output_type": "display_data"
    }
   ],
   "source": [
    "# Define some interesting plots\n",
    "plot_1 = fo.CategoricalHistogram(\"years\", order=\"frequency\")\n",
    "plot_2 = fo.CategoricalHistogram(\"platform\", order=\"frequency\")\n",
    "plot_3 = fo.CategoricalHistogram(\"countries\", order=\"frequency\")\n",
    "\n",
    "# Construct a custom dashboard of plots\n",
    "plot = fo.ViewGrid([plot_1, plot_2, plot_3], shape=(2,2), init_view=dataset)\n",
    "plot.show(height=1000)"
   ]
  },
  {
   "cell_type": "markdown",
   "id": "402dd79d-c9c7-46a9-b006-09ddc834d3d9",
   "metadata": {},
   "source": [
    "## Embeddings"
   ]
  },
  {
   "cell_type": "code",
   "execution_count": 4,
   "id": "bfad4efc-9442-4dae-a5b6-19fcc6e6d40d",
   "metadata": {},
   "outputs": [
    {
     "name": "stdout",
     "output_type": "stream",
     "text": [
      "Min. Distance 0.001 Num. Neighbors 100\n"
     ]
    },
    {
     "data": {
      "text/plain": []
     },
     "metadata": {},
     "output_type": "display_data"
    },
    {
     "data": {
      "text/plain": []
     },
     "metadata": {},
     "output_type": "display_data"
    },
    {
     "data": {
      "application/vnd.jupyter.widget-view+json": {
       "model_id": "7eb0a8e8ef8c49b3a83c5197d85af1b6",
       "version_major": 2,
       "version_minor": 0
      },
      "text/plain": [
       "FigureWidget({\n",
       "    'data': [{'customdata': array(['66b5dd16818ebd7af71d6601', '66b5dd16818ebd7af71d6602',\n",
       "                                   '66b5dd16818ebd7af71d6603', ..., '66b5dd3b818ebd7af71f22e9',\n",
       "                                   '66b5dd3b818ebd7af71f22ea', '66b5dd3b818ebd7af71f22eb'], dtype=object),\n",
       "              'hovertemplate': ('<b>label: %{marker.color}</b><' ... ': %{customdata}<extra></extra>'),\n",
       "              'marker': {'color': array([1985, 1989, 1982, ..., 1988, 1988, 1990]),\n",
       "                         'colorbar': {'len': 1, 'lenmode': 'fraction'},\n",
       "                         'colorscale': [[0.0, 'rgb(158,1,66)'], [0.1,\n",
       "                                        'rgb(213,62,79)'], [0.2,\n",
       "                                        'rgb(244,109,67)'], [0.3,\n",
       "                                        'rgb(253,174,97)'], [0.4,\n",
       "                                        'rgb(254,224,139)'], [0.5,\n",
       "                                        'rgb(255,255,191)'], [0.6,\n",
       "                                        'rgb(230,245,152)'], [0.7,\n",
       "                                        'rgb(171,221,164)'], [0.8,\n",
       "                                        'rgb(102,194,165)'], [0.9,\n",
       "                                        'rgb(50,136,189)'], [1.0,\n",
       "                                        'rgb(94,79,162)']],\n",
       "                         'showscale': True,\n",
       "                         'size': 2},\n",
       "              'mode': 'markers',\n",
       "              'type': 'scattergl',\n",
       "              'uid': '76895b14-c766-4472-9e91-ee0adbc61caf',\n",
       "              'x': array([7.26930571, 1.78024125, 5.718606  , ..., 8.10698318, 7.09137058,\n",
       "                          7.23900175]),\n",
       "              'y': array([ 1.03488541, -0.79013181, -1.72157669, ...,  1.01617157,  1.73407805,\n",
       "                          -0.97710019])}],\n",
       "    'layout': {'height': 340, 'margin': {'b': 0, 'l': 0, 'r': 0, 't': 30}, 'template': '...', 'width': 520}\n",
       "})"
      ]
     },
     "metadata": {},
     "output_type": "display_data"
    },
    {
     "name": "stdout",
     "output_type": "stream",
     "text": [
      "Min. Distance 0.001 Num. Neighbors 500\n"
     ]
    },
    {
     "data": {
      "text/plain": []
     },
     "metadata": {},
     "output_type": "display_data"
    },
    {
     "data": {
      "text/plain": []
     },
     "metadata": {},
     "output_type": "display_data"
    },
    {
     "data": {
      "application/vnd.jupyter.widget-view+json": {
       "model_id": "7c5f6c5621074cc2919503830b11627a",
       "version_major": 2,
       "version_minor": 0
      },
      "text/plain": [
       "FigureWidget({\n",
       "    'data': [{'customdata': array(['66b5dd16818ebd7af71d6601', '66b5dd16818ebd7af71d6602',\n",
       "                                   '66b5dd16818ebd7af71d6603', ..., '66b5dd3b818ebd7af71f22e9',\n",
       "                                   '66b5dd3b818ebd7af71f22ea', '66b5dd3b818ebd7af71f22eb'], dtype=object),\n",
       "              'hovertemplate': ('<b>label: %{marker.color}</b><' ... ': %{customdata}<extra></extra>'),\n",
       "              'marker': {'color': array([1985, 1989, 1982, ..., 1988, 1988, 1990]),\n",
       "                         'colorbar': {'len': 1, 'lenmode': 'fraction'},\n",
       "                         'colorscale': [[0.0, 'rgb(158,1,66)'], [0.1,\n",
       "                                        'rgb(213,62,79)'], [0.2,\n",
       "                                        'rgb(244,109,67)'], [0.3,\n",
       "                                        'rgb(253,174,97)'], [0.4,\n",
       "                                        'rgb(254,224,139)'], [0.5,\n",
       "                                        'rgb(255,255,191)'], [0.6,\n",
       "                                        'rgb(230,245,152)'], [0.7,\n",
       "                                        'rgb(171,221,164)'], [0.8,\n",
       "                                        'rgb(102,194,165)'], [0.9,\n",
       "                                        'rgb(50,136,189)'], [1.0,\n",
       "                                        'rgb(94,79,162)']],\n",
       "                         'showscale': True,\n",
       "                         'size': 2},\n",
       "              'mode': 'markers',\n",
       "              'type': 'scattergl',\n",
       "              'uid': '73fcf654-996e-4958-b9ec-76258386aa05',\n",
       "              'x': array([8.30979824, 2.97461438, 6.75191212, ..., 8.73430824, 8.11026955,\n",
       "                          7.86498928]),\n",
       "              'y': array([-1.39888716, -2.95410609, -3.97417355, ..., -1.90883934, -0.73313558,\n",
       "                          -3.4904387 ])}],\n",
       "    'layout': {'height': 340, 'margin': {'b': 0, 'l': 0, 'r': 0, 't': 30}, 'template': '...', 'width': 520}\n",
       "})"
      ]
     },
     "metadata": {},
     "output_type": "display_data"
    },
    {
     "name": "stdout",
     "output_type": "stream",
     "text": [
      "Min. Distance 0.001 Num. Neighbors 750\n"
     ]
    },
    {
     "data": {
      "text/plain": []
     },
     "metadata": {},
     "output_type": "display_data"
    },
    {
     "data": {
      "text/plain": []
     },
     "metadata": {},
     "output_type": "display_data"
    },
    {
     "data": {
      "application/vnd.jupyter.widget-view+json": {
       "model_id": "e629a5701a9d4f60b912063ee880dbac",
       "version_major": 2,
       "version_minor": 0
      },
      "text/plain": [
       "FigureWidget({\n",
       "    'data': [{'customdata': array(['66b5dd16818ebd7af71d6601', '66b5dd16818ebd7af71d6602',\n",
       "                                   '66b5dd16818ebd7af71d6603', ..., '66b5dd3b818ebd7af71f22e9',\n",
       "                                   '66b5dd3b818ebd7af71f22ea', '66b5dd3b818ebd7af71f22eb'], dtype=object),\n",
       "              'hovertemplate': ('<b>label: %{marker.color}</b><' ... ': %{customdata}<extra></extra>'),\n",
       "              'marker': {'color': array([1985, 1989, 1982, ..., 1988, 1988, 1990]),\n",
       "                         'colorbar': {'len': 1, 'lenmode': 'fraction'},\n",
       "                         'colorscale': [[0.0, 'rgb(158,1,66)'], [0.1,\n",
       "                                        'rgb(213,62,79)'], [0.2,\n",
       "                                        'rgb(244,109,67)'], [0.3,\n",
       "                                        'rgb(253,174,97)'], [0.4,\n",
       "                                        'rgb(254,224,139)'], [0.5,\n",
       "                                        'rgb(255,255,191)'], [0.6,\n",
       "                                        'rgb(230,245,152)'], [0.7,\n",
       "                                        'rgb(171,221,164)'], [0.8,\n",
       "                                        'rgb(102,194,165)'], [0.9,\n",
       "                                        'rgb(50,136,189)'], [1.0,\n",
       "                                        'rgb(94,79,162)']],\n",
       "                         'showscale': True,\n",
       "                         'size': 2},\n",
       "              'mode': 'markers',\n",
       "              'type': 'scattergl',\n",
       "              'uid': '87f0a97f-6515-4337-beb4-487a0bbb3cbb',\n",
       "              'x': array([8.64599609, 3.6746881 , 7.31153297, ..., 9.05703163, 7.99843979,\n",
       "                          8.28842068]),\n",
       "              'y': array([-2.0073216 , -3.52985215, -4.55596066, ..., -2.10219812, -1.33286619,\n",
       "                          -3.99232316])}],\n",
       "    'layout': {'height': 340, 'margin': {'b': 0, 'l': 0, 'r': 0, 't': 30}, 'template': '...', 'width': 520}\n",
       "})"
      ]
     },
     "metadata": {},
     "output_type": "display_data"
    },
    {
     "name": "stdout",
     "output_type": "stream",
     "text": [
      "Min. Distance 0.01 Num. Neighbors 100\n"
     ]
    },
    {
     "data": {
      "text/plain": []
     },
     "metadata": {},
     "output_type": "display_data"
    },
    {
     "data": {
      "text/plain": []
     },
     "metadata": {},
     "output_type": "display_data"
    },
    {
     "data": {
      "application/vnd.jupyter.widget-view+json": {
       "model_id": "f61b8d5da1b34c26aa06bf373fa4037b",
       "version_major": 2,
       "version_minor": 0
      },
      "text/plain": [
       "FigureWidget({\n",
       "    'data': [{'customdata': array(['66b5dd16818ebd7af71d6601', '66b5dd16818ebd7af71d6602',\n",
       "                                   '66b5dd16818ebd7af71d6603', ..., '66b5dd3b818ebd7af71f22e9',\n",
       "                                   '66b5dd3b818ebd7af71f22ea', '66b5dd3b818ebd7af71f22eb'], dtype=object),\n",
       "              'hovertemplate': ('<b>label: %{marker.color}</b><' ... ': %{customdata}<extra></extra>'),\n",
       "              'marker': {'color': array([1985, 1989, 1982, ..., 1988, 1988, 1990]),\n",
       "                         'colorbar': {'len': 1, 'lenmode': 'fraction'},\n",
       "                         'colorscale': [[0.0, 'rgb(158,1,66)'], [0.1,\n",
       "                                        'rgb(213,62,79)'], [0.2,\n",
       "                                        'rgb(244,109,67)'], [0.3,\n",
       "                                        'rgb(253,174,97)'], [0.4,\n",
       "                                        'rgb(254,224,139)'], [0.5,\n",
       "                                        'rgb(255,255,191)'], [0.6,\n",
       "                                        'rgb(230,245,152)'], [0.7,\n",
       "                                        'rgb(171,221,164)'], [0.8,\n",
       "                                        'rgb(102,194,165)'], [0.9,\n",
       "                                        'rgb(50,136,189)'], [1.0,\n",
       "                                        'rgb(94,79,162)']],\n",
       "                         'showscale': True,\n",
       "                         'size': 2},\n",
       "              'mode': 'markers',\n",
       "              'type': 'scattergl',\n",
       "              'uid': '341a1471-e04c-4929-961c-902a2801bd87',\n",
       "              'x': array([7.31906176, 1.67425883, 5.68536472, ..., 7.89488697, 7.05478621,\n",
       "                          7.23792887]),\n",
       "              'y': array([ 0.75991088, -0.92671585, -2.03709197, ...,  0.64855653,  1.40774512,\n",
       "                          -1.33765924])}],\n",
       "    'layout': {'height': 340, 'margin': {'b': 0, 'l': 0, 'r': 0, 't': 30}, 'template': '...', 'width': 520}\n",
       "})"
      ]
     },
     "metadata": {},
     "output_type": "display_data"
    },
    {
     "name": "stdout",
     "output_type": "stream",
     "text": [
      "Min. Distance 0.01 Num. Neighbors 500\n"
     ]
    },
    {
     "data": {
      "text/plain": []
     },
     "metadata": {},
     "output_type": "display_data"
    },
    {
     "data": {
      "text/plain": []
     },
     "metadata": {},
     "output_type": "display_data"
    },
    {
     "data": {
      "application/vnd.jupyter.widget-view+json": {
       "model_id": "6a3043df39414f759a696b7456cd1d58",
       "version_major": 2,
       "version_minor": 0
      },
      "text/plain": [
       "FigureWidget({\n",
       "    'data': [{'customdata': array(['66b5dd16818ebd7af71d6601', '66b5dd16818ebd7af71d6602',\n",
       "                                   '66b5dd16818ebd7af71d6603', ..., '66b5dd3b818ebd7af71f22e9',\n",
       "                                   '66b5dd3b818ebd7af71f22ea', '66b5dd3b818ebd7af71f22eb'], dtype=object),\n",
       "              'hovertemplate': ('<b>label: %{marker.color}</b><' ... ': %{customdata}<extra></extra>'),\n",
       "              'marker': {'color': array([1985, 1989, 1982, ..., 1988, 1988, 1990]),\n",
       "                         'colorbar': {'len': 1, 'lenmode': 'fraction'},\n",
       "                         'colorscale': [[0.0, 'rgb(158,1,66)'], [0.1,\n",
       "                                        'rgb(213,62,79)'], [0.2,\n",
       "                                        'rgb(244,109,67)'], [0.3,\n",
       "                                        'rgb(253,174,97)'], [0.4,\n",
       "                                        'rgb(254,224,139)'], [0.5,\n",
       "                                        'rgb(255,255,191)'], [0.6,\n",
       "                                        'rgb(230,245,152)'], [0.7,\n",
       "                                        'rgb(171,221,164)'], [0.8,\n",
       "                                        'rgb(102,194,165)'], [0.9,\n",
       "                                        'rgb(50,136,189)'], [1.0,\n",
       "                                        'rgb(94,79,162)']],\n",
       "                         'showscale': True,\n",
       "                         'size': 2},\n",
       "              'mode': 'markers',\n",
       "              'type': 'scattergl',\n",
       "              'uid': '4fec8b0d-158c-4d8e-ac93-08b37a194de2',\n",
       "              'x': array([7.96611261, 2.86863756, 6.71369648, ..., 8.36863995, 7.49586391,\n",
       "                          7.62386274]),\n",
       "              'y': array([-1.48796487, -2.9896872 , -4.04710484, ..., -1.82083523, -0.75685161,\n",
       "                          -3.47851992])}],\n",
       "    'layout': {'height': 340, 'margin': {'b': 0, 'l': 0, 'r': 0, 't': 30}, 'template': '...', 'width': 520}\n",
       "})"
      ]
     },
     "metadata": {},
     "output_type": "display_data"
    },
    {
     "name": "stdout",
     "output_type": "stream",
     "text": [
      "Min. Distance 0.01 Num. Neighbors 750\n"
     ]
    },
    {
     "data": {
      "text/plain": []
     },
     "metadata": {},
     "output_type": "display_data"
    },
    {
     "data": {
      "text/plain": []
     },
     "metadata": {},
     "output_type": "display_data"
    },
    {
     "data": {
      "application/vnd.jupyter.widget-view+json": {
       "model_id": "c2b0d5c9e4e744e388b8a31c6fb4d96d",
       "version_major": 2,
       "version_minor": 0
      },
      "text/plain": [
       "FigureWidget({\n",
       "    'data': [{'customdata': array(['66b5dd16818ebd7af71d6601', '66b5dd16818ebd7af71d6602',\n",
       "                                   '66b5dd16818ebd7af71d6603', ..., '66b5dd3b818ebd7af71f22e9',\n",
       "                                   '66b5dd3b818ebd7af71f22ea', '66b5dd3b818ebd7af71f22eb'], dtype=object),\n",
       "              'hovertemplate': ('<b>label: %{marker.color}</b><' ... ': %{customdata}<extra></extra>'),\n",
       "              'marker': {'color': array([1985, 1989, 1982, ..., 1988, 1988, 1990]),\n",
       "                         'colorbar': {'len': 1, 'lenmode': 'fraction'},\n",
       "                         'colorscale': [[0.0, 'rgb(158,1,66)'], [0.1,\n",
       "                                        'rgb(213,62,79)'], [0.2,\n",
       "                                        'rgb(244,109,67)'], [0.3,\n",
       "                                        'rgb(253,174,97)'], [0.4,\n",
       "                                        'rgb(254,224,139)'], [0.5,\n",
       "                                        'rgb(255,255,191)'], [0.6,\n",
       "                                        'rgb(230,245,152)'], [0.7,\n",
       "                                        'rgb(171,221,164)'], [0.8,\n",
       "                                        'rgb(102,194,165)'], [0.9,\n",
       "                                        'rgb(50,136,189)'], [1.0,\n",
       "                                        'rgb(94,79,162)']],\n",
       "                         'showscale': True,\n",
       "                         'size': 2},\n",
       "              'mode': 'markers',\n",
       "              'type': 'scattergl',\n",
       "              'uid': 'af9a89ee-9174-45bb-81c5-6373c25c961d',\n",
       "              'x': array([8.65548992, 3.82050633, 7.42198992, ..., 9.3186121 , 8.17197227,\n",
       "                          8.54009342]),\n",
       "              'y': array([-1.96744728, -3.61770844, -4.6382699 , ..., -2.03583217, -1.27941453,\n",
       "                          -3.91921353])}],\n",
       "    'layout': {'height': 340, 'margin': {'b': 0, 'l': 0, 'r': 0, 't': 30}, 'template': '...', 'width': 520}\n",
       "})"
      ]
     },
     "metadata": {},
     "output_type": "display_data"
    },
    {
     "name": "stdout",
     "output_type": "stream",
     "text": [
      "Min. Distance 0.5 Num. Neighbors 100\n"
     ]
    },
    {
     "data": {
      "text/plain": []
     },
     "metadata": {},
     "output_type": "display_data"
    },
    {
     "data": {
      "text/plain": []
     },
     "metadata": {},
     "output_type": "display_data"
    },
    {
     "data": {
      "application/vnd.jupyter.widget-view+json": {
       "model_id": "1fab4481fbed4385bd69ee96cf85ce09",
       "version_major": 2,
       "version_minor": 0
      },
      "text/plain": [
       "FigureWidget({\n",
       "    'data': [{'customdata': array(['66b5dd16818ebd7af71d6601', '66b5dd16818ebd7af71d6602',\n",
       "                                   '66b5dd16818ebd7af71d6603', ..., '66b5dd3b818ebd7af71f22e9',\n",
       "                                   '66b5dd3b818ebd7af71f22ea', '66b5dd3b818ebd7af71f22eb'], dtype=object),\n",
       "              'hovertemplate': ('<b>label: %{marker.color}</b><' ... ': %{customdata}<extra></extra>'),\n",
       "              'marker': {'color': array([1985, 1989, 1982, ..., 1988, 1988, 1990]),\n",
       "                         'colorbar': {'len': 1, 'lenmode': 'fraction'},\n",
       "                         'colorscale': [[0.0, 'rgb(158,1,66)'], [0.1,\n",
       "                                        'rgb(213,62,79)'], [0.2,\n",
       "                                        'rgb(244,109,67)'], [0.3,\n",
       "                                        'rgb(253,174,97)'], [0.4,\n",
       "                                        'rgb(254,224,139)'], [0.5,\n",
       "                                        'rgb(255,255,191)'], [0.6,\n",
       "                                        'rgb(230,245,152)'], [0.7,\n",
       "                                        'rgb(171,221,164)'], [0.8,\n",
       "                                        'rgb(102,194,165)'], [0.9,\n",
       "                                        'rgb(50,136,189)'], [1.0,\n",
       "                                        'rgb(94,79,162)']],\n",
       "                         'showscale': True,\n",
       "                         'size': 2},\n",
       "              'mode': 'markers',\n",
       "              'type': 'scattergl',\n",
       "              'uid': '3d20edfb-723d-4505-8bf9-413f4baf53e0',\n",
       "              'x': array([7.51356936, 0.47293097, 6.2824378 , ..., 8.45318985, 6.70253897,\n",
       "                          7.20503426]),\n",
       "              'y': array([ 1.02322626, -1.96361053, -3.2139318 , ...,  0.43438795,  1.67135608,\n",
       "                          -2.636024  ])}],\n",
       "    'layout': {'height': 340, 'margin': {'b': 0, 'l': 0, 'r': 0, 't': 30}, 'template': '...', 'width': 520}\n",
       "})"
      ]
     },
     "metadata": {},
     "output_type": "display_data"
    },
    {
     "name": "stdout",
     "output_type": "stream",
     "text": [
      "Min. Distance 0.5 Num. Neighbors 500\n"
     ]
    },
    {
     "data": {
      "text/plain": []
     },
     "metadata": {},
     "output_type": "display_data"
    },
    {
     "data": {
      "text/plain": []
     },
     "metadata": {},
     "output_type": "display_data"
    },
    {
     "data": {
      "application/vnd.jupyter.widget-view+json": {
       "model_id": "c88d82fd0cba431cbb4fe2f8eb4b1646",
       "version_major": 2,
       "version_minor": 0
      },
      "text/plain": [
       "FigureWidget({\n",
       "    'data': [{'customdata': array(['66b5dd16818ebd7af71d6601', '66b5dd16818ebd7af71d6602',\n",
       "                                   '66b5dd16818ebd7af71d6603', ..., '66b5dd3b818ebd7af71f22e9',\n",
       "                                   '66b5dd3b818ebd7af71f22ea', '66b5dd3b818ebd7af71f22eb'], dtype=object),\n",
       "              'hovertemplate': ('<b>label: %{marker.color}</b><' ... ': %{customdata}<extra></extra>'),\n",
       "              'marker': {'color': array([1985, 1989, 1982, ..., 1988, 1988, 1990]),\n",
       "                         'colorbar': {'len': 1, 'lenmode': 'fraction'},\n",
       "                         'colorscale': [[0.0, 'rgb(158,1,66)'], [0.1,\n",
       "                                        'rgb(213,62,79)'], [0.2,\n",
       "                                        'rgb(244,109,67)'], [0.3,\n",
       "                                        'rgb(253,174,97)'], [0.4,\n",
       "                                        'rgb(254,224,139)'], [0.5,\n",
       "                                        'rgb(255,255,191)'], [0.6,\n",
       "                                        'rgb(230,245,152)'], [0.7,\n",
       "                                        'rgb(171,221,164)'], [0.8,\n",
       "                                        'rgb(102,194,165)'], [0.9,\n",
       "                                        'rgb(50,136,189)'], [1.0,\n",
       "                                        'rgb(94,79,162)']],\n",
       "                         'showscale': True,\n",
       "                         'size': 2},\n",
       "              'mode': 'markers',\n",
       "              'type': 'scattergl',\n",
       "              'uid': 'a83c4a3c-0b94-4679-98db-96b5894dde0d',\n",
       "              'x': array([8.84957314, 2.52268028, 7.86831427, ..., 9.69665146, 7.89233732,\n",
       "                          8.82774258]),\n",
       "              'y': array([-1.68539679, -4.29496193, -5.52490473, ..., -2.19599319, -1.07095683,\n",
       "                          -4.99086809])}],\n",
       "    'layout': {'height': 340, 'margin': {'b': 0, 'l': 0, 'r': 0, 't': 30}, 'template': '...', 'width': 520}\n",
       "})"
      ]
     },
     "metadata": {},
     "output_type": "display_data"
    },
    {
     "name": "stdout",
     "output_type": "stream",
     "text": [
      "Min. Distance 0.5 Num. Neighbors 750\n"
     ]
    },
    {
     "data": {
      "text/plain": []
     },
     "metadata": {},
     "output_type": "display_data"
    },
    {
     "data": {
      "text/plain": []
     },
     "metadata": {},
     "output_type": "display_data"
    },
    {
     "data": {
      "application/vnd.jupyter.widget-view+json": {
       "model_id": "4ae208915a234b81a230a27e3ccd12b3",
       "version_major": 2,
       "version_minor": 0
      },
      "text/plain": [
       "FigureWidget({\n",
       "    'data': [{'customdata': array(['66b5dd16818ebd7af71d6601', '66b5dd16818ebd7af71d6602',\n",
       "                                   '66b5dd16818ebd7af71d6603', ..., '66b5dd3b818ebd7af71f22e9',\n",
       "                                   '66b5dd3b818ebd7af71f22ea', '66b5dd3b818ebd7af71f22eb'], dtype=object),\n",
       "              'hovertemplate': ('<b>label: %{marker.color}</b><' ... ': %{customdata}<extra></extra>'),\n",
       "              'marker': {'color': array([1985, 1989, 1982, ..., 1988, 1988, 1990]),\n",
       "                         'colorbar': {'len': 1, 'lenmode': 'fraction'},\n",
       "                         'colorscale': [[0.0, 'rgb(158,1,66)'], [0.1,\n",
       "                                        'rgb(213,62,79)'], [0.2,\n",
       "                                        'rgb(244,109,67)'], [0.3,\n",
       "                                        'rgb(253,174,97)'], [0.4,\n",
       "                                        'rgb(254,224,139)'], [0.5,\n",
       "                                        'rgb(255,255,191)'], [0.6,\n",
       "                                        'rgb(230,245,152)'], [0.7,\n",
       "                                        'rgb(171,221,164)'], [0.8,\n",
       "                                        'rgb(102,194,165)'], [0.9,\n",
       "                                        'rgb(50,136,189)'], [1.0,\n",
       "                                        'rgb(94,79,162)']],\n",
       "                         'showscale': True,\n",
       "                         'size': 2},\n",
       "              'mode': 'markers',\n",
       "              'type': 'scattergl',\n",
       "              'uid': 'c7b4ebaa-1a81-4c64-8835-dbd0a2d036bb',\n",
       "              'x': array([ 9.66328239,  3.42208552,  8.74376965, ..., 10.20814514,  8.65336132,\n",
       "                           9.3239851 ]),\n",
       "              'y': array([-2.06019759, -4.41099977, -5.83144522, ..., -2.458956  , -1.4299978 ,\n",
       "                          -5.36917877])}],\n",
       "    'layout': {'height': 340, 'margin': {'b': 0, 'l': 0, 'r': 0, 't': 30}, 'template': '...', 'width': 520}\n",
       "})"
      ]
     },
     "metadata": {},
     "output_type": "display_data"
    }
   ],
   "source": [
    "colorschemes = ['aggrnyl', 'agsunset', 'algae', 'amp', 'armyrose', 'balance',\n",
    "    'blackbody', 'bluered', 'blues', 'blugrn', 'bluyl', 'brbg',\n",
    "    'brwnyl', 'bugn', 'bupu', 'burg', 'burgyl', 'cividis', 'curl',\n",
    "    'darkmint', 'deep', 'delta', 'dense', 'earth', 'edge', 'electric',\n",
    "    'emrld', 'fall', 'geyser', 'gnbu', 'gray', 'greens', 'greys',\n",
    "    'haline', 'hot', 'hsv', 'ice', 'icefire', 'inferno', 'jet',\n",
    "    'magenta', 'magma', 'matter', 'mint', 'mrybm', 'mygbm', 'oranges',\n",
    "    'orrd', 'oryel', 'oxy', 'peach', 'phase', 'picnic', 'pinkyl',\n",
    "    'piyg', 'plasma', 'plotly3', 'portland', 'prgn', 'pubu', 'pubugn',\n",
    "    'puor', 'purd', 'purp', 'purples', 'purpor', 'rainbow', 'rdbu',\n",
    "    'rdgy', 'rdpu', 'rdylbu', 'rdylgn', 'redor', 'reds', 'solar',\n",
    "    'spectral', 'speed', 'sunset', 'sunsetdark', 'teal', 'tealgrn',\n",
    "    'tealrose', 'tempo', 'temps', 'thermal', 'tropic', 'turbid',\n",
    "    'turbo', 'twilight', 'viridis', 'ylgn', 'ylgnbu', 'ylorbr',\n",
    "    'ylorrd']\n",
    "colorscheme = 'spectral'\n",
    "    \n",
    "min_dist_s = [0.001, 0.01, 0.5]\n",
    "num_neighbors_s = [100, 500, 750]\n",
    "\n",
    "for min_dist in min_dist_s:\n",
    "    for num_neighbors in num_neighbors_s:\n",
    "\n",
    "        print('Min. Distance', min_dist, 'Num. Neighbors', num_neighbors)\n",
    "        \n",
    "        plot = dataset.load_brain_results(\"dinov2_umap_\"+str(min_dist).replace(\".\", \"\")+\"_\"+str(num_neighbors)+\"_vis\").visualize(\n",
    "            #labels=F(\"kmeans_dinov2_embeddings_cluster\"),\n",
    "            labels=F(\"year\"),\n",
    "            colorscale=colorscheme,\n",
    "            marker_size=2\n",
    "        )\n",
    "        plot.show(height=340, width=520)"
   ]
  }
 ],
 "metadata": {
  "kernelspec": {
   "display_name": "Python 3 (ipykernel)",
   "language": "python",
   "name": "python3"
  },
  "language_info": {
   "codemirror_mode": {
    "name": "ipython",
    "version": 3
   },
   "file_extension": ".py",
   "mimetype": "text/x-python",
   "name": "python",
   "nbconvert_exporter": "python",
   "pygments_lexer": "ipython3",
   "version": "3.9.19"
  },
  "widgets": {
   "application/vnd.jupyter.widget-state+json": {
    "state": {},
    "version_major": 2,
    "version_minor": 0
   }
  }
 },
 "nbformat": 4,
 "nbformat_minor": 5
}
