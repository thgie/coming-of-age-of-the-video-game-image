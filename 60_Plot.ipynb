{
 "cells": [
  {
   "cell_type": "markdown",
   "id": "a4a2c133-6997-4b82-ba51-6baba2f62d2f",
   "metadata": {},
   "source": [
    "# Plot and Stats"
   ]
  },
  {
   "cell_type": "code",
   "execution_count": null,
   "id": "40d5242a-c4d1-4d18-beae-15417a50ba0e",
   "metadata": {},
   "outputs": [],
   "source": [
    "import fiftyone as fo\n",
    "from fiftyone import ViewField as F\n",
    "\n",
    "# dataset basics\n",
    "dataset_label = 'video-game-screenshots'"
   ]
  },
  {
   "cell_type": "markdown",
   "id": "c5283f61-37c4-4ae4-8a53-3653507c9ef4",
   "metadata": {},
   "source": [
    "## Prepare Dataset"
   ]
  },
  {
   "cell_type": "code",
   "execution_count": null,
   "id": "ca06ab61-a780-41d0-a99b-51970882ccf3",
   "metadata": {},
   "outputs": [],
   "source": [
    "if dataset_label in fo.list_datasets():\n",
    "    dataset = fo.load_dataset(dataset_label)\n",
    "    session = fo.launch_app(dataset, auto=False)"
   ]
  },
  {
   "cell_type": "markdown",
   "id": "d14bf6d8-badf-4c7f-ae48-3f3e157078b4",
   "metadata": {},
   "source": [
    "Open [FiftyOne 🔗](http://localhost:5151)."
   ]
  },
  {
   "cell_type": "markdown",
   "id": "3afcc145-49f5-4ae4-b18a-f0c64561d842",
   "metadata": {},
   "source": [
    "## Histogram"
   ]
  },
  {
   "cell_type": "code",
   "execution_count": null,
   "id": "56d7d6e7-cc0f-490d-8128-e607b1ba13de",
   "metadata": {},
   "outputs": [],
   "source": [
    "# Define some interesting plots\n",
    "plot_1 = fo.CategoricalHistogram(\"year\", order=\"frequency\")\n",
    "plot_2 = fo.CategoricalHistogram(\"platform\", order=\"frequency\")\n",
    "plot_3 = fo.CategoricalHistogram(\"countries\", order=\"frequency\")\n",
    "\n",
    "# Construct a custom dashboard of plots\n",
    "plot = fo.ViewGrid([plot_1, plot_2, plot_3], shape=(2,2), init_view=dataset)\n",
    "plot.show(height=1000)"
   ]
  },
  {
   "cell_type": "markdown",
   "id": "402dd79d-c9c7-46a9-b006-09ddc834d3d9",
   "metadata": {},
   "source": [
    "## Embeddings"
   ]
  },
  {
   "cell_type": "code",
   "execution_count": null,
   "id": "bfad4efc-9442-4dae-a5b6-19fcc6e6d40d",
   "metadata": {},
   "outputs": [],
   "source": [
    "colorschemes = ['aggrnyl', 'agsunset', 'algae', 'amp', 'armyrose', 'balance',\n",
    "    'blackbody', 'bluered', 'blues', 'blugrn', 'bluyl', 'brbg',\n",
    "    'brwnyl', 'bugn', 'bupu', 'burg', 'burgyl', 'cividis', 'curl',\n",
    "    'darkmint', 'deep', 'delta', 'dense', 'earth', 'edge', 'electric',\n",
    "    'emrld', 'fall', 'geyser', 'gnbu', 'gray', 'greens', 'greys',\n",
    "    'haline', 'hot', 'hsv', 'ice', 'icefire', 'inferno', 'jet',\n",
    "    'magenta', 'magma', 'matter', 'mint', 'mrybm', 'mygbm', 'oranges',\n",
    "    'orrd', 'oryel', 'oxy', 'peach', 'phase', 'picnic', 'pinkyl',\n",
    "    'piyg', 'plasma', 'plotly3', 'portland', 'prgn', 'pubu', 'pubugn',\n",
    "    'puor', 'purd', 'purp', 'purples', 'purpor', 'rainbow', 'rdbu',\n",
    "    'rdgy', 'rdpu', 'rdylbu', 'rdylgn', 'redor', 'reds', 'solar',\n",
    "    'spectral', 'speed', 'sunset', 'sunsetdark', 'teal', 'tealgrn',\n",
    "    'tealrose', 'tempo', 'temps', 'thermal', 'tropic', 'turbid',\n",
    "    'turbo', 'twilight', 'viridis', 'ylgn', 'ylgnbu', 'ylorbr',\n",
    "    'ylorrd']\n",
    "\n",
    "colorscheme = 'magma'\n",
    "\n",
    "# min_dist_s = [0.001, 0.01, 0.5]\n",
    "# num_neighbors_s = [100, 500, 750]\n",
    "\n",
    "min_dist_s = [0.001]\n",
    "num_neighbors_s = [750]\n",
    "\n",
    "for min_dist in min_dist_s:\n",
    "    for num_neighbors in num_neighbors_s:\n",
    "        cluster_run = \"dinov2_umap_\"+str(min_dist).replace(\".\", \"\")+\"_\"+str(num_neighbors)+\"_vis\"\n",
    "        run = dataset.load_brain_results(cluster_run)\n",
    "        plot = run.visualize(\n",
    "            labels=F(\"year\"),\n",
    "            colorscale=colorscheme,\n",
    "            marker_size=2\n",
    "        )\n",
    "        plot.show(height=680, width=1040)\n",
    "        print('Min. Distance', min_dist, 'Num. Neighbors', num_neighbors)"
   ]
  }
 ],
 "metadata": {
  "kernelspec": {
   "display_name": "Python 3 (ipykernel)",
   "language": "python",
   "name": "python3"
  },
  "language_info": {
   "codemirror_mode": {
    "name": "ipython",
    "version": 3
   },
   "file_extension": ".py",
   "mimetype": "text/x-python",
   "name": "python",
   "nbconvert_exporter": "python",
   "pygments_lexer": "ipython3",
   "version": "3.9.19"
  },
  "widgets": {
   "application/vnd.jupyter.widget-state+json": {
    "state": {},
    "version_major": 2,
    "version_minor": 0
   }
  }
 },
 "nbformat": 4,
 "nbformat_minor": 5
}
