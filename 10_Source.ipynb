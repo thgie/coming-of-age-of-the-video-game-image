{
 "cells": [
  {
   "cell_type": "markdown",
   "id": "493fedfb-2dd1-4c78-81e9-968265494f99",
   "metadata": {},
   "source": [
    "# Source\n",
    "\n",
    "Based on a Wikidata query for video games <= 1990 that have a Mobygames ID (https://w.wiki/AZeT)."
   ]
  },
  {
   "cell_type": "markdown",
   "id": "7ccab944-a297-44b8-901e-f0147645b5ed",
   "metadata": {},
   "source": [
    "## Setup"
   ]
  },
  {
   "cell_type": "code",
   "execution_count": null,
   "id": "6e7e4c5c-2757-4470-a81e-375ace68eda7",
   "metadata": {},
   "outputs": [],
   "source": [
    "# folder setup\n",
    "import os\n",
    "\n",
    "path_mobygames = os.path.abspath(os.getcwd()) + '/mobygames/'\n",
    "path_screenshots = os.path.abspath(os.getcwd()) + '/screenshots/'\n",
    "\n",
    "for folder in [path_mobygames, path_screenshots, path_reduced, path_samples]:\n",
    "    if not os.path.exists(folder):\n",
    "        os.makedirs(folder)"
   ]
  },
  {
   "cell_type": "markdown",
   "id": "36b10d40-7c89-4d50-a140-90f4dacaa422",
   "metadata": {},
   "source": [
    "## Reformat Mobygames Platforms JSON\n",
    "\n",
    "All of Mobygames platforms can be access via their API under https://api.mobygames.com/v1/platforms?api_key={YOUR_API_KEY}. I adjusted the JSON to make it searchable by slugified platform label."
   ]
  },
  {
   "cell_type": "code",
   "execution_count": null,
   "id": "b23b7a47-3664-4fd8-bc73-e698960e2ce4",
   "metadata": {},
   "outputs": [],
   "source": [
    "!pip install python-slugify"
   ]
  },
  {
   "cell_type": "code",
   "execution_count": null,
   "id": "d2a8cda4-08ca-41e0-9a82-2234c317c0f9",
   "metadata": {},
   "outputs": [],
   "source": [
    "import json, slugify\n",
    "\n",
    "platforms = {\n",
    "    'platforms': []\n",
    "}\n",
    "\n",
    "with open('platforms.json') as json_file:\n",
    "    data = json.load(json_file)\n",
    "    for entry in data['platforms']:\n",
    "        platform = slugify.slugify(entry['platform_name'], replacements=[['/', '']])\n",
    "        platforms['platforms'].append(platform)\n",
    "        platforms[platform] = entry\n",
    "\n",
    "    with open('platforms_reformatted.json', 'w') as f:\n",
    "        json.dump(platforms, f, indent=4)"
   ]
  },
  {
   "cell_type": "markdown",
   "id": "d2aca70c-5e1e-4ace-b512-e2beff38eb30",
   "metadata": {},
   "source": [
    "## Mobygames"
   ]
  },
  {
   "cell_type": "markdown",
   "id": "9ddc9205-deb1-4edc-99d5-77ac30a39ca9",
   "metadata": {},
   "source": [
    "### Scrape"
   ]
  },
  {
   "cell_type": "code",
   "execution_count": null,
   "id": "c9cb921c-3ae4-430c-8cb2-66dcea02a341",
   "metadata": {},
   "outputs": [],
   "source": [
    "!sudo apt install httrack"
   ]
  },
  {
   "cell_type": "code",
   "execution_count": null,
   "id": "ae08cc5e-d180-4b89-ac2c-5a3609f93b60",
   "metadata": {
    "scrolled": true
   },
   "outputs": [],
   "source": [
    "import csv, subprocess\n",
    "\n",
    "with open('query.csv') as query_results:\n",
    "\n",
    "    reader = csv.reader(query_results, delimiter=',', quotechar='\"')\n",
    "\n",
    "    # skip the headers\n",
    "    next(reader, None)\n",
    "\n",
    "    for row in reader:\n",
    "\n",
    "        if row[5] != '':\n",
    "            progress_bar(count, total)\n",
    "    \n",
    "            entry_count = 1\n",
    "    \n",
    "            for entry in row[5].split(','):\n",
    "    \n",
    "                folder = str(row[1]+' ('+row[2]+') '+row[0].split('/')[-1])\n",
    "                folder = folder.replace(',', '_')\n",
    "                folder = folder.replace('/', '_')\n",
    "                folder = path_mobygames+folder\n",
    "                url = 'https://www.mobygames.com/game/'+entry+'/'\n",
    "    \n",
    "                if entry_count > 1:\n",
    "                    folder = folder + ' ' + str(entry_count)\n",
    "    \n",
    "                command = 'httrack --continue -q -%i -w \"'+url+'\" -O \"'+folder+'\" -n -%P -N0 -s2 -p7 -D -a -K0 -c10 -%k -A25000 -F \"Mozilla/4.5 (compatible; HTTrack 3.0x; Windows 98)\" \"-*.webp\" \"-*.css\" \"-*.js\" \"-*.xml\" \"-*.txt\" \"-*.pdf\" \"-*wikipedia*\" \"-*wikimedia*\" \"-*wikicommons*\" \"-*creativecommons*\" \"+*.png\" \"+*.gif\" \"+*.jpg\" \"+*.jpeg\" -%s -%u -%e0 -d' \n",
    "    \n",
    "                # print(command)\n",
    "                process = subprocess.Popen(command, shell=True, stdout=subprocess.PIPE)\n",
    "                process.wait()\n",
    "    \n",
    "                entry_count += 1"
   ]
  },
  {
   "cell_type": "markdown",
   "id": "9dd2c20f-0732-4a22-864a-6265c7344824",
   "metadata": {},
   "source": [
    "### Rename and Copy"
   ]
  },
  {
   "cell_type": "code",
   "execution_count": null,
   "id": "0ae3a1a7-25df-404f-9d4f-cf16e225982d",
   "metadata": {},
   "outputs": [],
   "source": [
    "# install similar-images-remover\n",
    "!git clone https://github.com/shashankag14/similar-images-remover.git\n",
    "!pip install -r similar-images-remover/requirements.txt\n",
    "!pip install numpy==1.24.2"
   ]
  },
  {
   "cell_type": "code",
   "execution_count": null,
   "id": "374a7b60-8b53-4275-989e-3d4e82c7c10c",
   "metadata": {
    "scrolled": true
   },
   "outputs": [],
   "source": [
    "import json, os, re, shutil\n",
    "\n",
    "remove_similar = False\n",
    "threshold = 0.75 # default is 0.85\n",
    "\n",
    "# open mobygames platforms json first\n",
    "with open('platforms_reformatted.json') as json_data:\n",
    "    platforms = json.load(json_data)\n",
    "\n",
    "    # go through all the 'screenshots' folders in the scraped entries\n",
    "    for _path, _folders, _files in os.walk(path_mobygames):\n",
    "        for _folder in _folders:\n",
    "\n",
    "            path_game_screenshots = path_mobygames+_folder+'/cdn.mobygames.com/screenshots'\n",
    "\n",
    "            if os.path.exists(path_game_screenshots):\n",
    "\n",
    "                # extract wikidata id and years from the main folder\n",
    "                wikidata_id = 'Q'+_folder.split(') Q')[-1]    \n",
    "                wikidata_id = wikidata_id.split(' ')[0]\n",
    "        \n",
    "                year = _folder.split('(')[1]\n",
    "                year = year.split(')')[0]\n",
    "                year = year.replace('_', '-')\n",
    "    \n",
    "                # copy screenshots folder to new location\n",
    "                path_target = path_screenshots+_folder+'/'\n",
    "    \n",
    "                if os.path.exists(path_target):\n",
    "                    shutil.rmtree(path_target)\n",
    "    \n",
    "                shutil.copytree(path_game_screenshots, path_target)\n",
    "    \n",
    "                # remove similar images, if needed\n",
    "                if (remove_similar):\n",
    "                    cmd = os.path.join(os.getcwd(), 'similar-images-remover/similar_images_remover.py --folder_path \"'+path_target+'\" --threshold '+str(threshold))\n",
    "                    os.system('{} {}'.format('python', cmd))\n",
    "    \n",
    "                # rename the screenshots' filenames to persist information on that level\n",
    "                for path, folders, files in os.walk(path_target):\n",
    "                    for filename in files:\n",
    "    \n",
    "                        platform = ''\n",
    "        \n",
    "                        old_filename = re.sub(r'^\\d+-', '', filename)\n",
    "                        new_filename = ''\n",
    "        \n",
    "                        for _platform in platforms['platforms']:\n",
    "                            if '-'+_platform+'-' in filename:\n",
    "                                if platform == '':\n",
    "                                    platform = _platform\n",
    "                                if filename.index(_platform) >= filename.index(platform):\n",
    "                                    platform = _platform\n",
    "                            \n",
    "                        new_filename = old_filename.replace('-'+platform+'-', '_'+platform+'_')     \n",
    "                        new_filename = wikidata_id + '_' + year + '_' + new_filename\n",
    "    \n",
    "                        # only copy renamed screenshot to final destination if we have a platform\n",
    "                        if platform != '':\n",
    "                            shutil.copy(path_target+filename, path_screenshots+new_filename)\n",
    "    \n",
    "                # remove temporary copied folder\n",
    "                if os.path.exists(path_target):\n",
    "                    shutil.rmtree(path_target)"
   ]
  },
  {
   "cell_type": "markdown",
   "id": "398bf08b-6dbd-4ff2-9327-480fa19e6c2b",
   "metadata": {},
   "source": [
    "### Cleanup Similar Remover Process Files"
   ]
  },
  {
   "cell_type": "code",
   "execution_count": null,
   "id": "01f10ac4-7cb2-4d14-8718-33468ee7efdc",
   "metadata": {},
   "outputs": [],
   "source": [
    "!rm preprocessed_*.png\n",
    "!rm similar_images_*.txt\n",
    "!rm -rf removed_images"
   ]
  }
 ],
 "metadata": {
  "kernelspec": {
   "display_name": "Python 3 (ipykernel)",
   "language": "python",
   "name": "python3"
  },
  "language_info": {
   "codemirror_mode": {
    "name": "ipython",
    "version": 3
   },
   "file_extension": ".py",
   "mimetype": "text/x-python",
   "name": "python",
   "nbconvert_exporter": "python",
   "pygments_lexer": "ipython3",
   "version": "3.9.19"
  }
 },
 "nbformat": 4,
 "nbformat_minor": 5
}
