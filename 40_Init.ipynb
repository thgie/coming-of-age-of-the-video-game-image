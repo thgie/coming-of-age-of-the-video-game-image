{
 "cells": [
  {
   "cell_type": "markdown",
   "id": "a4a2c133-6997-4b82-ba51-6baba2f62d2f",
   "metadata": {},
   "source": [
    "# Init"
   ]
  },
  {
   "cell_type": "markdown",
   "id": "2d1145ad-81f4-4317-830b-72b15cae8725",
   "metadata": {},
   "source": [
    "## Infrasctructure"
   ]
  },
  {
   "cell_type": "code",
   "execution_count": null,
   "id": "72bcb243-e91e-4cb4-a954-834392569fc1",
   "metadata": {},
   "outputs": [],
   "source": [
    "!pip install -U fiftyone torch torchvision umap-learn scikit-learn ipywidgets\n",
    "!fiftyone plugins download https://github.com/jacobmarks/clustering-plugin"
   ]
  },
  {
   "cell_type": "code",
   "execution_count": null,
   "id": "d4914d8d-53f0-471f-bc43-221a2ada16dc",
   "metadata": {},
   "outputs": [],
   "source": [
    "import fiftyone.zoo as foz\n",
    "\n",
    "# load models\n",
    "foz.load_zoo_model(\"resnet101-imagenet-torch\")\n",
    "foz.load_zoo_model(\"dinov2-vitb14-torch\")"
   ]
  },
  {
   "cell_type": "markdown",
   "id": "ec3f9f03-5b88-4125-aa84-c9c1b797dcb9",
   "metadata": {},
   "source": [
    "## Setup Dataset"
   ]
  },
  {
   "cell_type": "code",
   "execution_count": null,
   "id": "40d5242a-c4d1-4d18-beae-15417a50ba0e",
   "metadata": {},
   "outputs": [],
   "source": [
    "import os, csv, json\n",
    "import fiftyone as fo\n",
    "\n",
    "# dataset basics\n",
    "dataset_label = 'video-game-screenshots'\n",
    "dataset_exists = False\n",
    "\n",
    "# folder setup\n",
    "path_samples = os.path.abspath(os.getcwd()) + '/screenshots/'\n",
    "path_export = os.path.abspath(os.getcwd()) + '/dataset/'"
   ]
  },
  {
   "cell_type": "markdown",
   "id": "c5283f61-37c4-4ae4-8a53-3653507c9ef4",
   "metadata": {},
   "source": [
    "## Prepare Dataset"
   ]
  },
  {
   "cell_type": "markdown",
   "id": "884b326a-6362-4936-ba55-c3d55e9b7be9",
   "metadata": {},
   "source": [
    "*If dataset is persistent and exists, or exported dataset exists*"
   ]
  },
  {
   "cell_type": "code",
   "execution_count": null,
   "id": "ca06ab61-a780-41d0-a99b-51970882ccf3",
   "metadata": {},
   "outputs": [],
   "source": [
    "if dataset_label in fo.list_datasets():\n",
    "    dataset_exists = True\n",
    "    dataset = fo.load_dataset(dataset_label)\n",
    "    session = fo.launch_app(dataset, auto=False)\n",
    "\n",
    "if os.path.isdir(path_export) and not dataset_exists:\n",
    "    dataset_exists = True\n",
    "    dataset = fo.Dataset.from_dir(\n",
    "        dataset_dir=path_export,\n",
    "        dataset_type=fo.types.FiftyOneDataset,\n",
    "        name=dataset_label,\n",
    "        persistent=True\n",
    "    )"
   ]
  },
  {
   "cell_type": "markdown",
   "id": "f4d541cb-50a9-44a3-8214-8cbee836b95e",
   "metadata": {},
   "source": [
    "### If dataset does not yet exist"
   ]
  },
  {
   "cell_type": "code",
   "execution_count": null,
   "id": "21592af4-490f-408d-8851-33d1f3e4cdb5",
   "metadata": {
    "scrolled": true
   },
   "outputs": [],
   "source": [
    "if not dataset_exists:\n",
    "\n",
    "    dataset = fo.Dataset(dataset_label)\n",
    "    dataset.persistent = True\n",
    "    \n",
    "    # open the wikidata query file to link wikidata_id in filename and csv \n",
    "    with open('query.csv') as games_data:\n",
    "    \n",
    "        # load reformated mobygames platforms file to get proper platform label\n",
    "        with open('platforms_reformatted.json') as platforms_data:\n",
    "            games_rows = csv.reader(games_data, delimiter=',', quotechar='\"')\n",
    "            games = {}\n",
    "            platforms = json.load(platforms_data)\n",
    "    \n",
    "            # save game title and country of origin in tuple\n",
    "            for game in games_rows:\n",
    "                games[game[0].split('/')[-1]] = {\n",
    "                    'title': game[1],\n",
    "                    'countries': game[4].replace(',', '|') \n",
    "                }\n",
    "    \n",
    "            # go through all screenshots in the samples folder\n",
    "            for path, folders, files in os.walk(path_samples):\n",
    "    \n",
    "                sample_count = 0\n",
    "                \n",
    "                for screenshot in files:\n",
    "                    \n",
    "                    filepath = os.path.join(path, screenshot)\n",
    "    \n",
    "                    wikidata_id = screenshot.split('_')[0]\n",
    "    \n",
    "                    if wikidata_id in games:\n",
    "    \n",
    "                        title = games[wikidata_id]['title']\n",
    "                        platform = platforms[screenshot.split('_')[3]]['platform_name']\n",
    "                        years = screenshot.split('_')[1]\n",
    "                        years = years.split('-')\n",
    "                        year = int(years[0])\n",
    "                        countries = games[wikidata_id]['countries'].split('|')\n",
    "        \n",
    "                        sample = fo.Sample(filepath=filepath)\n",
    "        \n",
    "                        sample['wikidata_id'] = wikidata_id\n",
    "                        sample['title'] = title\n",
    "                        sample['platform'] = platform\n",
    "                        sample['years'] = years\n",
    "                        sample['year'] = year\n",
    "                        sample['countries'] = countries\n",
    "                    \n",
    "                        dataset.add_sample(sample)"
   ]
  },
  {
   "cell_type": "code",
   "execution_count": null,
   "id": "3b6e5af8-fa14-4df2-ab8b-52cf0acdae93",
   "metadata": {},
   "outputs": [],
   "source": [
    "session = fo.launch_app(dataset, auto=False)"
   ]
  },
  {
   "cell_type": "markdown",
   "id": "3f0fae29-6bd2-45bd-ab4d-005826077abe",
   "metadata": {},
   "source": [
    "[Open Dataset in FiftyOne](http://localhost:5151/)"
   ]
  }
 ],
 "metadata": {
  "kernelspec": {
   "display_name": "Python 3 (ipykernel)",
   "language": "python",
   "name": "python3"
  },
  "language_info": {
   "codemirror_mode": {
    "name": "ipython",
    "version": 3
   },
   "file_extension": ".py",
   "mimetype": "text/x-python",
   "name": "python",
   "nbconvert_exporter": "python",
   "pygments_lexer": "ipython3",
   "version": "3.9.19"
  },
  "widgets": {
   "application/vnd.jupyter.widget-state+json": {
    "state": {},
    "version_major": 2,
    "version_minor": 0
   }
  }
 },
 "nbformat": 4,
 "nbformat_minor": 5
}
